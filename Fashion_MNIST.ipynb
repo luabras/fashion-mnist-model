{
  "nbformat": 4,
  "nbformat_minor": 0,
  "metadata": {
    "colab": {
      "name": "Fashion-MNIST.ipynb",
      "provenance": [],
      "authorship_tag": "ABX9TyPus4jQmNCsfukEqB5nhcEG",
      "include_colab_link": true
    },
    "kernelspec": {
      "name": "python3",
      "display_name": "Python 3"
    }
  },
  "cells": [
    {
      "cell_type": "markdown",
      "metadata": {
        "id": "view-in-github",
        "colab_type": "text"
      },
      "source": [
        "<a href=\"https://colab.research.google.com/github/luabras/fashion-mnist-model/blob/master/Fashion_MNIST.ipynb\" target=\"_parent\"><img src=\"https://colab.research.google.com/assets/colab-badge.svg\" alt=\"Open In Colab\"/></a>"
      ]
    },
    {
      "cell_type": "markdown",
      "metadata": {
        "id": "fdagfaMLmex6",
        "colab_type": "text"
      },
      "source": [
        "A simple model for classifying clothes using the Fashion-MNIST dataset.\n",
        "\n",
        "Used libraries:\n",
        "\n",
        "* Tensorflow\n",
        "* Keras\n",
        "* NumPy\n",
        "* MatpLotlib"
      ]
    },
    {
      "cell_type": "markdown",
      "metadata": {
        "id": "5S9oOiFMmg_z",
        "colab_type": "text"
      },
      "source": [
        "Imports"
      ]
    },
    {
      "cell_type": "code",
      "metadata": {
        "id": "Kw7zqXVx477k",
        "colab_type": "code",
        "colab": {}
      },
      "source": [
        "import tensorflow\n",
        "from tensorflow import keras\n",
        "import matplotlib.pyplot as plt\n",
        "import numpy as np\n",
        "from tensorflow.keras.models import load_model"
      ],
      "execution_count": 1,
      "outputs": []
    },
    {
      "cell_type": "markdown",
      "metadata": {
        "id": "pq_kJmvunmGS",
        "colab_type": "text"
      },
      "source": [
        "Loading dataset"
      ]
    },
    {
      "cell_type": "code",
      "metadata": {
        "id": "LmAFBYRMnqB0",
        "colab_type": "code",
        "colab": {
          "base_uri": "https://localhost:8080/",
          "height": 1000
        },
        "outputId": "060aa92c-9269-4af9-989a-451fcd8bd048"
      },
      "source": [
        "# Loading dataset and saving in a variable\n",
        "dataset = keras.datasets.fashion_mnist\n",
        "((imagensTreino, identificacoesTreino), (imagensTeste, identificacoesTeste)) = dataset.load_data() # Returns two tuples (training and test data)\n",
        "\n",
        "imagensTreino"
      ],
      "execution_count": 2,
      "outputs": [
        {
          "output_type": "stream",
          "text": [
            "Downloading data from https://storage.googleapis.com/tensorflow/tf-keras-datasets/train-labels-idx1-ubyte.gz\n",
            "32768/29515 [=================================] - 0s 0us/step\n",
            "Downloading data from https://storage.googleapis.com/tensorflow/tf-keras-datasets/train-images-idx3-ubyte.gz\n",
            "26427392/26421880 [==============================] - 0s 0us/step\n",
            "Downloading data from https://storage.googleapis.com/tensorflow/tf-keras-datasets/t10k-labels-idx1-ubyte.gz\n",
            "8192/5148 [===============================================] - 0s 0us/step\n",
            "Downloading data from https://storage.googleapis.com/tensorflow/tf-keras-datasets/t10k-images-idx3-ubyte.gz\n",
            "4423680/4422102 [==============================] - 0s 0us/step\n"
          ],
          "name": "stdout"
        },
        {
          "output_type": "execute_result",
          "data": {
            "text/plain": [
              "array([[[0, 0, 0, ..., 0, 0, 0],\n",
              "        [0, 0, 0, ..., 0, 0, 0],\n",
              "        [0, 0, 0, ..., 0, 0, 0],\n",
              "        ...,\n",
              "        [0, 0, 0, ..., 0, 0, 0],\n",
              "        [0, 0, 0, ..., 0, 0, 0],\n",
              "        [0, 0, 0, ..., 0, 0, 0]],\n",
              "\n",
              "       [[0, 0, 0, ..., 0, 0, 0],\n",
              "        [0, 0, 0, ..., 0, 0, 0],\n",
              "        [0, 0, 0, ..., 0, 0, 0],\n",
              "        ...,\n",
              "        [0, 0, 0, ..., 0, 0, 0],\n",
              "        [0, 0, 0, ..., 0, 0, 0],\n",
              "        [0, 0, 0, ..., 0, 0, 0]],\n",
              "\n",
              "       [[0, 0, 0, ..., 0, 0, 0],\n",
              "        [0, 0, 0, ..., 0, 0, 0],\n",
              "        [0, 0, 0, ..., 0, 0, 0],\n",
              "        ...,\n",
              "        [0, 0, 0, ..., 0, 0, 0],\n",
              "        [0, 0, 0, ..., 0, 0, 0],\n",
              "        [0, 0, 0, ..., 0, 0, 0]],\n",
              "\n",
              "       ...,\n",
              "\n",
              "       [[0, 0, 0, ..., 0, 0, 0],\n",
              "        [0, 0, 0, ..., 0, 0, 0],\n",
              "        [0, 0, 0, ..., 0, 0, 0],\n",
              "        ...,\n",
              "        [0, 0, 0, ..., 0, 0, 0],\n",
              "        [0, 0, 0, ..., 0, 0, 0],\n",
              "        [0, 0, 0, ..., 0, 0, 0]],\n",
              "\n",
              "       [[0, 0, 0, ..., 0, 0, 0],\n",
              "        [0, 0, 0, ..., 0, 0, 0],\n",
              "        [0, 0, 0, ..., 0, 0, 0],\n",
              "        ...,\n",
              "        [0, 0, 0, ..., 0, 0, 0],\n",
              "        [0, 0, 0, ..., 0, 0, 0],\n",
              "        [0, 0, 0, ..., 0, 0, 0]],\n",
              "\n",
              "       [[0, 0, 0, ..., 0, 0, 0],\n",
              "        [0, 0, 0, ..., 0, 0, 0],\n",
              "        [0, 0, 0, ..., 0, 0, 0],\n",
              "        ...,\n",
              "        [0, 0, 0, ..., 0, 0, 0],\n",
              "        [0, 0, 0, ..., 0, 0, 0],\n",
              "        [0, 0, 0, ..., 0, 0, 0]]], dtype=uint8)"
            ]
          },
          "metadata": {
            "tags": []
          },
          "execution_count": 2
        }
      ]
    },
    {
      "cell_type": "markdown",
      "metadata": {
        "id": "M0fKaeUSnrdy",
        "colab_type": "text"
      },
      "source": [
        "Getting dataset size and image specifications"
      ]
    },
    {
      "cell_type": "code",
      "metadata": {
        "id": "wHiNaoHn63SB",
        "colab_type": "code",
        "colab": {
          "base_uri": "https://localhost:8080/",
          "height": 34
        },
        "outputId": "367e055c-865d-44ca-fc29-cd56fbd591c6"
      },
      "source": [
        "len(imagensTreino)\n",
        "imagensTreino.shape # an array of 28 rows and 28 columns"
      ],
      "execution_count": 3,
      "outputs": [
        {
          "output_type": "execute_result",
          "data": {
            "text/plain": [
              "(60000, 28, 28)"
            ]
          },
          "metadata": {
            "tags": []
          },
          "execution_count": 3
        }
      ]
    },
    {
      "cell_type": "code",
      "metadata": {
        "id": "ZFCDVfWW78Bt",
        "colab_type": "code",
        "colab": {
          "base_uri": "https://localhost:8080/",
          "height": 34
        },
        "outputId": "ac28931a-6329-4514-841c-ce47f1804a39"
      },
      "source": [
        "len(imagensTeste)\n",
        "imagensTeste.shape"
      ],
      "execution_count": 4,
      "outputs": [
        {
          "output_type": "execute_result",
          "data": {
            "text/plain": [
              "(10000, 28, 28)"
            ]
          },
          "metadata": {
            "tags": []
          },
          "execution_count": 4
        }
      ]
    },
    {
      "cell_type": "code",
      "metadata": {
        "id": "1CtwngZb8L0X",
        "colab_type": "code",
        "colab": {
          "base_uri": "https://localhost:8080/",
          "height": 34
        },
        "outputId": "9ce98ab1-93de-4655-9c6d-2139449e7420"
      },
      "source": [
        "len(identificacoesTreino)"
      ],
      "execution_count": null,
      "outputs": [
        {
          "output_type": "execute_result",
          "data": {
            "text/plain": [
              "60000"
            ]
          },
          "metadata": {
            "tags": []
          },
          "execution_count": 4
        }
      ]
    },
    {
      "cell_type": "markdown",
      "metadata": {
        "id": "q-fQA0B0n52Z",
        "colab_type": "text"
      },
      "source": [
        "Showing image using matplotlib function"
      ]
    },
    {
      "cell_type": "code",
      "metadata": {
        "id": "WJGgN64e8Ty_",
        "colab_type": "code",
        "colab": {
          "base_uri": "https://localhost:8080/",
          "height": 282
        },
        "outputId": "a2ce991d-a9f8-411c-d73d-882783cb19ad"
      },
      "source": [
        "totalClassificacoes = 10\n",
        "\n",
        "nomesClassificacoes = ['Camiseta', 'Calca', 'Pullover', 'Vestido', 'Casaco', 'Sandalia', 'Camisa', 'Tenis', 'Bolsa', 'Bota']\n",
        "\n",
        "# Seeing that we have from 0 to 255 color values\n",
        "plt.imshow(imagensTreino[0])\n",
        "plt.colorbar()"
      ],
      "execution_count": null,
      "outputs": [
        {
          "output_type": "execute_result",
          "data": {
            "text/plain": [
              "<matplotlib.colorbar.Colorbar at 0x7f40e818c5c0>"
            ]
          },
          "metadata": {
            "tags": []
          },
          "execution_count": 2
        },
        {
          "output_type": "display_data",
          "data": {
            "image/png": "[encoded data removed]",
            "text/plain": [
              "<Figure size 432x288 with 2 Axes>"
            ]
          },
          "metadata": {
            "tags": [],
            "needs_background": "light"
          }
        }
      ]
    },
    {
      "cell_type": "markdown",
      "metadata": {
        "id": "xK6x92dCpDKE",
        "colab_type": "text"
      },
      "source": [
        "**Model**\n",
        "\n",
        "* Keras sequential model: inputs, processing and outputs.\n",
        "* The images are formed by 28 lines and 28 columns, each cell is a pixel\n",
        "* We want to transform 28x28 matrix in a vector, then it is used the Flatten function\n",
        "* Processing using the tensorflow relu neural network\n",
        "* Output layer has density 10, as it is the number of different classifications\n",
        "* Output algorithm (softmax) will compare images with categories and give a percentage of accuracy"
      ]
    },
    {
      "cell_type": "code",
      "metadata": {
        "id": "Dlz3E44F8q0o",
        "colab_type": "code",
        "colab": {
          "base_uri": "https://localhost:8080/",
          "height": 224
        },
        "outputId": "86f34bab-c6ba-4639-e047-03874f64fee9"
      },
      "source": [
        "# Dividing by the number of colors to reduce losses (normalization)\n",
        "imagensTreino = imagensTreino/float(255)\n",
        "\n",
        "modelo = keras.Sequential([\n",
        "                           keras.layers.Flatten(input_shape=(28, 28)),\n",
        "                           keras.layers.Dense(256, activation=tensorflow.nn.relu),\n",
        "                           # Leaving 20% dormant\n",
        "                           keras.layers.Dropout(0.2),\n",
        "                           keras.layers.Dense(10, activation=tensorflow.nn.softmax)\n",
        "                           ])\n",
        "\n",
        "# Compiling model (optimizer, loss)\n",
        "# Adam indicated because the dataset has more than 2 categories\n",
        "\n",
        "modelo.compile(optimizer='adam', loss='sparse_categorical_crossentropy', metrics=['accuracy'])\n",
        "\n",
        "# Model training\n",
        "modelo.fit(imagensTreino, identificacoesTreino, epochs=5, validation_split=0.2)"
      ],
      "execution_count": null,
      "outputs": [
        {
          "output_type": "stream",
          "text": [
            "Epoch 1/5\n",
            "1500/1500 [==============================] - 5s 3ms/step - loss: 0.5262 - accuracy: 0.8139 - val_loss: 0.4025 - val_accuracy: 0.8557\n",
            "Epoch 2/5\n",
            "1500/1500 [==============================] - 4s 3ms/step - loss: 0.4009 - accuracy: 0.8538 - val_loss: 0.3753 - val_accuracy: 0.8622\n",
            "Epoch 3/5\n",
            "1500/1500 [==============================] - 4s 3ms/step - loss: 0.3658 - accuracy: 0.8675 - val_loss: 0.3599 - val_accuracy: 0.8693\n",
            "Epoch 4/5\n",
            "1500/1500 [==============================] - 4s 3ms/step - loss: 0.3408 - accuracy: 0.8728 - val_loss: 0.3497 - val_accuracy: 0.8722\n",
            "Epoch 5/5\n",
            "1500/1500 [==============================] - 4s 3ms/step - loss: 0.3227 - accuracy: 0.8813 - val_loss: 0.3325 - val_accuracy: 0.8800\n"
          ],
          "name": "stdout"
        },
        {
          "output_type": "execute_result",
          "data": {
            "text/plain": [
              "<tensorflow.python.keras.callbacks.History at 0x7f40e16ba0b8>"
            ]
          },
          "metadata": {
            "tags": []
          },
          "execution_count": 3
        }
      ]
    },
    {
      "cell_type": "markdown",
      "metadata": {
        "id": "l0ntPF_apWeF",
        "colab_type": "text"
      },
      "source": [
        "Testing model"
      ]
    },
    {
      "cell_type": "code",
      "metadata": {
        "id": "nx9A6gDzHdoS",
        "colab_type": "code",
        "colab": {
          "base_uri": "https://localhost:8080/",
          "height": 51
        },
        "outputId": "83db6b3d-f3fd-4122-941d-9d923a434fe6"
      },
      "source": [
        "testes = modelo.predict(imagensTeste)\n",
        "\n",
        "# Getting the largest number to identify the label\n",
        "print(np.argmax(testes[0]))\n",
        "print(identificacoesTeste[0])"
      ],
      "execution_count": null,
      "outputs": [
        {
          "output_type": "stream",
          "text": [
            "9\n",
            "9\n"
          ],
          "name": "stdout"
        }
      ]
    },
    {
      "cell_type": "markdown",
      "metadata": {
        "id": "tqv484nipeat",
        "colab_type": "text"
      },
      "source": [
        "Evaluating model (loss, accuracy)"
      ]
    },
    {
      "cell_type": "code",
      "metadata": {
        "id": "9CUkkvKRL3Ar",
        "colab_type": "code",
        "colab": {
          "base_uri": "https://localhost:8080/",
          "height": 51
        },
        "outputId": "7b6d2a5f-cd70-4a1f-b415-a9b316ae85d0"
      },
      "source": [
        "modelo.evaluate(imagensTeste, identificacoesTeste)"
      ],
      "execution_count": null,
      "outputs": [
        {
          "output_type": "stream",
          "text": [
            "313/313 [==============================] - 0s 2ms/step - loss: 145044.1094 - accuracy: 0.1353\n"
          ],
          "name": "stdout"
        },
        {
          "output_type": "execute_result",
          "data": {
            "text/plain": [
              "[145044.109375, 0.13529999554157257]"
            ]
          },
          "metadata": {
            "tags": []
          },
          "execution_count": 11
        }
      ]
    },
    {
      "cell_type": "markdown",
      "metadata": {
        "id": "ilJ5luyjpjvh",
        "colab_type": "text"
      },
      "source": [
        "Saving model"
      ]
    },
    {
      "cell_type": "code",
      "metadata": {
        "id": "cLKnt06RM2uv",
        "colab_type": "code",
        "colab": {}
      },
      "source": [
        "modelo.save('modelo.h5')"
      ],
      "execution_count": null,
      "outputs": []
    },
    {
      "cell_type": "code",
      "metadata": {
        "id": "JUxUeXw0Q_Yc",
        "colab_type": "code",
        "colab": {
          "base_uri": "https://localhost:8080/",
          "height": 34
        },
        "outputId": "7337734f-223c-4d0b-9beb-326731d9eb2a"
      },
      "source": [
        "modeloSalvo = load_model('modelo.h5')\n",
        "\n",
        "testeModeloSalvo = modeloSalvo.predict(imagensTeste)\n",
        "np.argmax(testeModeloSalvo[1])\n",
        "identificacoesTeste[1]"
      ],
      "execution_count": null,
      "outputs": [
        {
          "output_type": "execute_result",
          "data": {
            "text/plain": [
              "2"
            ]
          },
          "metadata": {
            "tags": []
          },
          "execution_count": 12
        }
      ]
    }
  ]
}